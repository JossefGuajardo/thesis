{
 "cells": [
  {
   "cell_type": "code",
   "execution_count": 14,
   "id": "76f48a94",
   "metadata": {},
   "outputs": [],
   "source": [
    "import numpy as np\n",
    "import trimesh\n",
    "import pyvista as pv\n",
    "from skimage import measure\n",
    "from skimage.draw import ellipsoid"
   ]
  },
  {
   "cell_type": "code",
   "execution_count": 15,
   "id": "ed96766a",
   "metadata": {},
   "outputs": [],
   "source": [
    "def SurfaceOrientationTensor(vertices, faces):\n",
    "    facesNo= faces.shape[0]\n",
    "    mesh = trimesh.Trimesh(vertices=verts, faces=faces)\n",
    "    Area = mesh.area_faces\n",
    "    face_normals = mesh.face_normals\n",
    "    f = np.zeros((3,3))\n",
    "    \n",
    "    for k in range(0,facesNo):\n",
    "        f = f + Area[k]*np.tensordot(face_normals[k,:],face_normals[k,:],axes=0) #outer product\n",
    "    f = f/(np.sum(Area)) #normalise to the total surface area\n",
    "    return f\n",
    "\n",
    "def principalSOT(f):\n",
    "    eigenVal, vectors = np.linalg.eig(f) #eigen analysis\n",
    "    eigenValues = np.sort(eigenVal)[::-1] #sort eigenvalues in descending order\n",
    "\n",
    "    f1 = eigenValues[0] #Largerst eigenvalue\n",
    "    f2 = eigenValues[1] #Intermediate eigenvalue\n",
    "    f3 = eigenValues[2] #Smallest eigenvalue\n",
    "\n",
    "    C = f3/f1 #Compactness\n",
    "    F = (f1-f3)/f1 #Flakiness\n",
    "    E = (f2-f3)/f1 #Elongation\n",
    "    return C, F, E"
   ]
  },
  {
   "cell_type": "code",
   "execution_count": 27,
   "id": "bc50a148",
   "metadata": {},
   "outputs": [],
   "source": [
    "#Alternative definition\n",
    "\n",
    "def surface_orientation_tensor(vertices, faces):\n",
    "    face_normals = np.cross(vertices[faces[:, 1]] - vertices[faces[:, 0]], \n",
    "                            vertices[faces[:, 2]] - vertices[faces[:, 0]])\n",
    "    face_normals /= np.linalg.norm(face_normals, axis=1).reshape(-1, 1)\n",
    "\n",
    "    face_areas = 0.5 * np.linalg.norm(np.cross(vertices[faces[:, 1]] - vertices[faces[:, 0]], \n",
    "                                               vertices[faces[:, 2]] - vertices[faces[:, 0]]), axis=1)\n",
    "    f = np.zeros((3, 3))\n",
    "    for i in range(len(faces)):\n",
    "        f += face_areas[i] * np.outer(face_normals[i], face_normals[i])\n",
    "    f /= np.sum(face_areas)\n",
    "\n",
    "    np.set_printoptions(precision=16)\n",
    "    return f\n",
    "\n",
    "def principalS_O_T(S):\n",
    "    eigenvalues, _ = np.linalg.eig(S)\n",
    "    eigenvals = np.sort(eigenvalues)[::-1]\n",
    "    \n",
    "    c = eigenvals[2] / eigenvals[0]\n",
    "    f = (eigenvals[0] - eigenvals[2]) / eigenvals[0]\n",
    "    e = (eigenvals[1] - eigenvals[2]) / eigenvals[0]\n",
    "    return c, f, e\n"
   ]
  },
  {
   "cell_type": "code",
   "execution_count": 28,
   "id": "b4d9ae0f",
   "metadata": {},
   "outputs": [],
   "source": [
    "# generate ellipsoid\n",
    "from skimage import measure\n",
    "from skimage.draw import ellipsoid\n",
    "\n",
    "ellip = ellipsoid(10, 20, 30, levelset=True)\n",
    "\n",
    "# get vertices and faces\n",
    "verts, faces, normals, values = measure.marching_cubes(ellip, 0.0, step_size=2)\n"
   ]
  },
  {
   "cell_type": "code",
   "execution_count": 69,
   "id": "13767218",
   "metadata": {},
   "outputs": [],
   "source": [
    "from mayavi import mlab\n",
    "x= [vert[0] for vert in verts]\n",
    "y= [vert[1] for vert in verts]\n",
    "z= [vert[2] for vert in verts]\n",
    "\n",
    "mlab.triangular_mesh(x,y,z, faces, representation = 'wireframe')\n",
    "mlab.show()"
   ]
  },
  {
   "cell_type": "code",
   "execution_count": 18,
   "id": "6223b225",
   "metadata": {
    "scrolled": true
   },
   "outputs": [
    {
     "name": "stdout",
     "output_type": "stream",
     "text": [
      "Surface Tensor: [[ 6.61840606e-01 -3.35190776e-15 -4.52965734e-14]\n",
      " [-3.35190776e-15  2.24965088e-01 -1.43340866e-14]\n",
      " [-4.52965734e-14 -1.43340866e-14  1.13194306e-01]]\n",
      "Compactness: 0.17102955706849332\n",
      "Flakiness: 0.8289704429315067\n",
      "Elongation: 0.16887870155518597\n"
     ]
    }
   ],
   "source": [
    "# calculate surface orientation tensor\n",
    "S = SurfaceOrientationTensor(verts, faces)\n",
    "# calculate shape descriptors\n",
    "Compactness, Flakiness, Elongation = principalSOT(S)\n",
    "\n",
    "# print results\n",
    "print(\"Surface Tensor:\", S)\n",
    "print(\"Compactness:\", Compactness)\n",
    "print(\"Flakiness:\", Flakiness)\n",
    "print(\"Elongation:\", Elongation)\n"
   ]
  },
  {
   "cell_type": "code",
   "execution_count": 30,
   "id": "f10c5277",
   "metadata": {},
   "outputs": [
    {
     "name": "stdout",
     "output_type": "stream",
     "text": [
      "Surface Tensor alt: [[ 6.6184060987049098e-01 -1.1339820683263090e-11  8.1329649451130286e-11]\n",
      " [-1.1339820683263090e-11  2.2496508960338529e-01  7.7067851753142563e-11]\n",
      " [ 8.1329649451130286e-11  7.7067851753142563e-11  1.1319430691866403e-01]]\n",
      "Compactness_ALT: 0.17102955791850546\n",
      "Flakiness_ALT: 0.8289704420814946\n",
      "Elongation_ALT: 0.16887870133353192\n"
     ]
    }
   ],
   "source": [
    "S_alt = surface_orientation_tensor(verts,faces)\n",
    "# calculate shape descriptors\n",
    "Compactness_ALT, Flakiness_ALT, Elongation_ALT = principalS_O_T(S_alt)\n",
    "\n",
    "print(\"Surface Tensor alt:\", S_alt)\n",
    "print(\"Compactness_ALT:\", Compactness_ALT)\n",
    "print(\"Flakiness_ALT:\", Flakiness_ALT)\n",
    "print(\"Elongation_ALT:\", Elongation_ALT)"
   ]
  },
  {
   "cell_type": "code",
   "execution_count": null,
   "id": "d6313325",
   "metadata": {},
   "outputs": [],
   "source": []
  }
 ],
 "metadata": {
  "kernelspec": {
   "display_name": "Python 3 (ipykernel)",
   "language": "python",
   "name": "python3"
  },
  "language_info": {
   "codemirror_mode": {
    "name": "ipython",
    "version": 3
   },
   "file_extension": ".py",
   "mimetype": "text/x-python",
   "name": "python",
   "nbconvert_exporter": "python",
   "pygments_lexer": "ipython3",
   "version": "3.9.12"
  }
 },
 "nbformat": 4,
 "nbformat_minor": 5
}
