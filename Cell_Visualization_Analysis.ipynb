{
 "cells": [
  {
   "cell_type": "code",
   "execution_count": 1,
   "id": "98c6c2d9",
   "metadata": {},
   "outputs": [],
   "source": [
    "from mayavi import mlab\n",
    "import pandas as pd\n",
    "import numpy as np\n",
    "import trimesh as tr\n",
    "import time"
   ]
  },
  {
   "cell_type": "code",
   "execution_count": 2,
   "id": "37058e6e",
   "metadata": {
    "scrolled": true
   },
   "outputs": [],
   "source": [
    "#import the cell reconstruction\n",
    "file= pd.read_csv('cell_reconstruction1.txt',sep=\" \", header=None)"
   ]
  },
  {
   "cell_type": "code",
   "execution_count": 3,
   "id": "db204727",
   "metadata": {},
   "outputs": [],
   "source": [
    "#read the data for the analysis\n",
    "vertss = []\n",
    "vert1, vert2 = [x for _, x in file.groupby((file[0] == 'v'))]\n",
    "vertss.append(vert2)"
   ]
  },
  {
   "cell_type": "code",
   "execution_count": 4,
   "id": "5480b77f",
   "metadata": {},
   "outputs": [],
   "source": [
    "del vertss[0][0]"
   ]
  },
  {
   "cell_type": "code",
   "execution_count": 5,
   "id": "21e1822b",
   "metadata": {
    "scrolled": true
   },
   "outputs": [],
   "source": [
    "vertsss= vertss[0].to_numpy()\n",
    "verts= vertsss.astype('int')"
   ]
  },
  {
   "cell_type": "code",
   "execution_count": 6,
   "id": "4fcde17d",
   "metadata": {},
   "outputs": [],
   "source": [
    "face = []\n",
    "face1, face2 = [x for _, x in file.groupby((file[0] == 'f'))]\n",
    "face.append(face2)"
   ]
  },
  {
   "cell_type": "code",
   "execution_count": 7,
   "id": "7d4bb0b7",
   "metadata": {},
   "outputs": [],
   "source": [
    "del face[0][0]"
   ]
  },
  {
   "cell_type": "code",
   "execution_count": 8,
   "id": "378cb221",
   "metadata": {
    "scrolled": true
   },
   "outputs": [],
   "source": [
    "facee = face[0].to_numpy()\n",
    "faces = facee.astype('int')"
   ]
  },
  {
   "cell_type": "code",
   "execution_count": 9,
   "id": "7e26b3e4",
   "metadata": {},
   "outputs": [],
   "source": [
    "normal = []\n",
    "norm1, norm2 = [x for _, x in file.groupby((file[0] == 'vn'))]\n",
    "normal.append(norm2)"
   ]
  },
  {
   "cell_type": "code",
   "execution_count": 10,
   "id": "1c1ce1e3",
   "metadata": {},
   "outputs": [],
   "source": [
    "del normal[0][0]"
   ]
  },
  {
   "cell_type": "code",
   "execution_count": 11,
   "id": "a02ca2b1",
   "metadata": {
    "scrolled": false
   },
   "outputs": [],
   "source": [
    "crosses = normal[0].to_numpy()\n",
    "cross = crosses.astype('int')"
   ]
  },
  {
   "cell_type": "code",
   "execution_count": 15,
   "id": "0425312c",
   "metadata": {
    "scrolled": true
   },
   "outputs": [],
   "source": [
    "#Graphical representation, run if you want to see the cell\n",
    "x= [vert[0] for vert in verts]\n",
    "y= [vert[1] for vert in verts]\n",
    "z= [vert[2] for vert in verts]\n",
    "\n",
    "mlab.triangular_mesh(x,y,z, faces, representation = 'wireframe')\n",
    "mlab.show()"
   ]
  },
  {
   "cell_type": "code",
   "execution_count": 20,
   "id": "8579db14",
   "metadata": {},
   "outputs": [],
   "source": [
    "def SurfaceOrientationTensor(vertices, faces):\n",
    "    facesNo= faces.shape[0]\n",
    "    mesh = tr.Trimesh(vertices=verts, faces=faces)\n",
    "    Area = mesh.area_faces\n",
    "    face_normals = mesh.face_normals\n",
    "    f = np.zeros((3,3))\n",
    "    \n",
    "    for k in range(0,facesNo):\n",
    "        f = f+ Area[k]*np.tensordot(face_normals[k,:],face_normals[k,:],axes=0) #outer product\n",
    "    f = f/np.sum(Area) #normalise to the total surface area\n",
    "    return f, face_normals\n",
    "\n",
    "def principalSOT(f):\n",
    "    eigenVal, vectors = np.linalg.eig(f) #eigen analysis\n",
    "    #eigenValReal = eigenVal.real # discard complex part (if any)\n",
    "    eigenValues = np.sort(eigenVal)[::-1] #sort eigenvalues in descending order\n",
    "\n",
    "    f1 = eigenValues[0] #Largerst eigenvalue\n",
    "    f2 = eigenValues[1] #Intermediate eigenvalue\n",
    "    f3 = eigenValues[2] #Smallest eigenvalue\n",
    "\n",
    "    C = f3/f1 #Compactness\n",
    "    F = (f1-f3)/f1 #Flakiness\n",
    "    E = (f2-f3)/f1 #Elongation\n",
    "    return C, F, E"
   ]
  },
  {
   "cell_type": "code",
   "execution_count": 21,
   "id": "80fe7195",
   "metadata": {
    "scrolled": true
   },
   "outputs": [
    {
     "name": "stdout",
     "output_type": "stream",
     "text": [
      "Surface Tensor: [[0.34517485 0.04577559 0.04750732]\n",
      " [0.04577559 0.3320896  0.0406698 ]\n",
      " [0.04750732 0.0406698  0.32273555]]\n",
      "Compactness: 0.6702999616514728\n",
      "Flakiness: 0.3297000383485273\n",
      "Elongation: 0.019930594430729504\n",
      "--- 0.5006711483001709 seconds ---\n"
     ]
    }
   ],
   "source": [
    "start_time = time.time()\n",
    "# calculate surface orientation tensor\n",
    "S, face_normals = SurfaceOrientationTensor(verts, faces)\n",
    "\n",
    "# calculate shape descriptors\n",
    "Compactness, Flakiness, Elongation = principalSOT(S)\n",
    "\n",
    "# print results\n",
    "print(\"Surface Tensor:\", S)\n",
    "print(\"Compactness:\", Compactness)\n",
    "print(\"Flakiness:\", Flakiness)\n",
    "print(\"Elongation:\", Elongation)\n",
    "print(\"--- %s seconds ---\" % (time.time() - start_time))"
   ]
  },
  {
   "cell_type": "code",
   "execution_count": null,
   "id": "ca75bb2c",
   "metadata": {},
   "outputs": [],
   "source": []
  }
 ],
 "metadata": {
  "kernelspec": {
   "display_name": "Python 3 (ipykernel)",
   "language": "python",
   "name": "python3"
  },
  "language_info": {
   "codemirror_mode": {
    "name": "ipython",
    "version": 3
   },
   "file_extension": ".py",
   "mimetype": "text/x-python",
   "name": "python",
   "nbconvert_exporter": "python",
   "pygments_lexer": "ipython3",
   "version": "3.9.12"
  }
 },
 "nbformat": 4,
 "nbformat_minor": 5
}
