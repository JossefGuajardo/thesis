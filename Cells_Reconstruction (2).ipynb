{
 "cells": [
  {
   "cell_type": "code",
   "execution_count": 1,
   "id": "0b710d93",
   "metadata": {},
   "outputs": [],
   "source": [
    "import numpy as np\n",
    "import matplotlib.pyplot as plt\n",
    "import scipy.ndimage as ndi\n",
    "from skimage.io import imread\n",
    "import skimage.measure as skimeas\n",
    "from os.path import join\n",
    "from mayavi import mlab\n",
    "from skimage import measure\n",
    "%matplotlib inline  "
   ]
  },
  {
   "cell_type": "code",
   "execution_count": 2,
   "id": "4d093a01",
   "metadata": {
    "scrolled": false
   },
   "outputs": [],
   "source": [
    "filename = r'cells.tif'   \n",
    "dirpath = r'' \n",
    "filepath = join(dirpath, filename) #final path to load image\n",
    "img = imread(filepath) #loading image           "
   ]
  },
  {
   "cell_type": "code",
   "execution_count": 3,
   "id": "b2f0758e",
   "metadata": {},
   "outputs": [],
   "source": [
    "def myplt(img, title):\n",
    "    \"\"\"This function displays the input image with interpolation='none', cmap='magma' in the range of 0-255 (8-bits). \"\"\"\n",
    "    plt.imshow(img,interpolation='none',cmap='magma', vmin=0, vmax=255)\n",
    "    plt.colorbar(fraction=0.046, pad=0.04) \n",
    "    plt.title(title)"
   ]
  },
  {
   "cell_type": "code",
   "execution_count": 4,
   "id": "fe22af15",
   "metadata": {},
   "outputs": [],
   "source": [
    "# Function to plot pairs of images\n",
    "def pltPair(img1, img2, title1, title2, cmap1, cmap2, lim):\n",
    "    \"\"\"This function displays a pair of input image with interpolation='none',in the range of lims. \"\"\"\n",
    "\n",
    "    plt.figure(figsize=(16,16))\n",
    "    plt.subplot(1,2,1)\n",
    "    plt.imshow(img1, interpolation='none', cmap=cmap1, vmin=lim[0], vmax=lim[1])\n",
    "    plt.title(title1)\n",
    "    plt.colorbar(fraction=0.046, pad=0.04)\n",
    "    plt.subplot(1,2,2)\n",
    "    plt.imshow(img2, interpolation='none', cmap=cmap2, vmin=lim[2], vmax=lim[3])\n",
    "    plt.title(title2)\n",
    "    plt.colorbar(fraction=0.046, pad=0.04)\n",
    "    plt.show()"
   ]
  },
  {
   "cell_type": "code",
   "execution_count": 5,
   "id": "ce6ebfca",
   "metadata": {},
   "outputs": [
    {
     "data": {
      "application/vnd.jupyter.widget-view+json": {
       "model_id": "41bace901c8e4437810c53f436670cac",
       "version_major": 2,
       "version_minor": 0
      },
      "text/plain": [
       "interactive(children=(IntSlider(value=153, description='z', max=306), Output()), _dom_classes=('widget-interac…"
      ]
     },
     "metadata": {},
     "output_type": "display_data"
    },
    {
     "name": "stdout",
     "output_type": "stream",
     "text": [
      "Variable Type:  <class 'numpy.ndarray'>\n",
      "Image data type:  uint16\n",
      "Image dimension:  (307, 786, 712)\n"
     ]
    },
    {
     "data": {
      "text/plain": [
       "<Figure size 1440x1440 with 0 Axes>"
      ]
     },
     "metadata": {},
     "output_type": "display_data"
    }
   ],
   "source": [
    "# Plot image and diplay image features\n",
    "imgDim = img.shape\n",
    "nPlanes = imgDim[0]\n",
    "from ipywidgets import interact\n",
    "@interact (z=(0,nPlanes-1,1))\n",
    "def plot_slides (z):\n",
    "  myplt(img[z,:,:], \"Membranes\")\n",
    "\n",
    "print('Variable Type: ', type(img))\n",
    "print('Image data type: ', img.dtype)\n",
    "print('Image dimension: ', img.shape)\n",
    "plt.figure(figsize=(20,20))\n",
    "plt.show()"
   ]
  },
  {
   "cell_type": "code",
   "execution_count": 6,
   "id": "fd9d20d5",
   "metadata": {},
   "outputs": [
    {
     "name": "stdout",
     "output_type": "stream",
     "text": [
      "249  cells detected after removing the ones at the border\n",
      "--- 409.03640508651733 seconds ---\n"
     ]
    }
   ],
   "source": [
    "from datetime import datetime\n",
    "import time\n",
    "start_time = time.time()\n",
    "# Create an image border mask\n",
    "\n",
    "border_mask = np.zeros(img.shape, dtype=bool)\n",
    "border_mask = ndi.binary_dilation(border_mask, border_value=1)\n",
    "\n",
    "# Remove the cells at the border\n",
    "\n",
    "# Create a copy of the initial result\n",
    "clean_img = np.copy(img)\n",
    "\n",
    "for cell_ID in np.unique(img):\n",
    "\n",
    "    # Create a mask that contains only the 'current' cell of the iteration\n",
    "    cell_mask = img ==cell_ID \n",
    "    \n",
    "    # Use the cell mask and the border mask to test if the cell has pixels touching \n",
    "    # the image border or not.\n",
    "    cell_border_overlap = np.logical_and(cell_mask, border_mask)  # Overlap of cell mask and boundary mask\n",
    "    total_overlap_pixels = np.sum(cell_border_overlap)            # Sum overlapping pixels\n",
    "\n",
    "    # If a cell touches the image boundary, delete it by setting its pixels in the segmentation to 0.\n",
    "    if total_overlap_pixels > 0: \n",
    "        clean_img[cell_mask] = 0\n",
    "\n",
    "# Re-label the remaining cells to keep the numbering consistent from 1 to N (with 0 as background).\n",
    "\n",
    "for new_ID, cell_ID in enumerate(np.unique(clean_img)[1:]):  # The [1:] excludes 0 from the list (background)!\n",
    "    clean_img[clean_img==cell_ID] = new_ID+1                  # The same here for the +1\n",
    "        \n",
    "nCells = clean_img.max();\n",
    "print(str(nCells), ' cells detected after removing the ones at the border')\n",
    "print(\"--- %s seconds ---\" % (time.time() - start_time))"
   ]
  },
  {
   "cell_type": "code",
   "execution_count": 7,
   "id": "59862666",
   "metadata": {
    "scrolled": true
   },
   "outputs": [
    {
     "data": {
      "application/vnd.jupyter.widget-view+json": {
       "model_id": "0eecc8edc38947c7816659c46ad81ada",
       "version_major": 2,
       "version_minor": 0
      },
      "text/plain": [
       "interactive(children=(IntSlider(value=153, description='z', max=306, min=1), Output()), _dom_classes=('widget-…"
      ]
     },
     "metadata": {},
     "output_type": "display_data"
    }
   ],
   "source": [
    "@interact(z=(1,nPlanes-1,1))\n",
    "def plot_slides(z):\n",
    "  pltPair(img[z,:,:], clean_img[z,:,:], 'Cells initial', 'Cells final', 'jet', 'jet', [0,255,0,nCells])\n",
    "  plt.show()"
   ]
  },
  {
   "cell_type": "code",
   "execution_count": 13,
   "id": "d4823d49",
   "metadata": {},
   "outputs": [
    {
     "name": "stdout",
     "output_type": "stream",
     "text": [
      "--- 4.445544004440308 seconds ---\n"
     ]
    }
   ],
   "source": [
    "# Create the 3D reconstruction of the cells\n",
    "start_time = time.time()\n",
    "for cell_ID in np.unique(clean_img)[1:nCells]:#here we can choose how many cells we want to calculate\n",
    "    cell_mask = clean_img==cell_ID\n",
    "   \n",
    "    verts, faces, normals, values = measure.marching_cubes(cell_mask, 0.0,step_size=2)\n",
    "\n",
    "    thefile = open('Cell_reconstruction' + str(cell_ID) +'.txt', 'w')\n",
    "    for item in verts:\n",
    "          thefile.write(\"v {0} {1} {2}\\n\".format(item[0],item[1],item[2]))\n",
    "\n",
    "    for item in normals:\n",
    "          thefile.write(\"vn {0} {1} {2}\\n\".format(item[0],item[1],item[2]))\n",
    "\n",
    "    for item in faces:\n",
    "          thefile.write(\"f {0} {1} {2}\\n\".format(item[0],item[1],item[2]))  \n",
    "\n",
    "    thefile.close()\n",
    "print(\"--- %s seconds ---\" % (time.time() - start_time))"
   ]
  },
  {
   "cell_type": "code",
   "execution_count": null,
   "id": "ee5e9551",
   "metadata": {},
   "outputs": [],
   "source": []
  }
 ],
 "metadata": {
  "kernelspec": {
   "display_name": "Python 3 (ipykernel)",
   "language": "python",
   "name": "python3"
  },
  "language_info": {
   "codemirror_mode": {
    "name": "ipython",
    "version": 3
   },
   "file_extension": ".py",
   "mimetype": "text/x-python",
   "name": "python",
   "nbconvert_exporter": "python",
   "pygments_lexer": "ipython3",
   "version": "3.9.12"
  }
 },
 "nbformat": 4,
 "nbformat_minor": 5
}
