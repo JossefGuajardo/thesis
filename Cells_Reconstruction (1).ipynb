{
 "cells": [
  {
   "cell_type": "code",
   "execution_count": 1,
   "id": "0b710d93",
   "metadata": {},
   "outputs": [],
   "source": [
    "import numpy as np\n",
    "import matplotlib.pyplot as plt\n",
    "import scipy.ndimage as ndi\n",
    "from skimage.io import imread\n",
    "import skimage.measure as skimeas\n",
    "from os.path import join\n",
    "from mayavi import mlab\n",
    "from skimage import measure\n",
    "%matplotlib inline  "
   ]
  },
  {
   "cell_type": "code",
   "execution_count": 2,
   "id": "4d093a01",
   "metadata": {
    "scrolled": false
   },
   "outputs": [],
   "source": [
    "filename = r'cells.tif'   \n",
    "dirpath = r'' \n",
    "filepath = join(dirpath, filename) #final path to load image\n",
    "img = imread(filepath) #loading image           "
   ]
  },
  {
   "cell_type": "code",
   "execution_count": 3,
   "id": "b2f0758e",
   "metadata": {},
   "outputs": [],
   "source": [
    "def myplt(img, title):\n",
    "    \"\"\"This function displays the input image with interpolation='none', cmap='magma' in the range of 0-255 (8-bits). \"\"\"\n",
    "    plt.imshow(img,interpolation='none',cmap='magma', vmin=0, vmax=255)\n",
    "    plt.colorbar(fraction=0.046, pad=0.04) \n",
    "    plt.title(title)"
   ]
  },
  {
   "cell_type": "code",
   "execution_count": 4,
   "id": "fe22af15",
   "metadata": {},
   "outputs": [],
   "source": [
    "# Function to plot pairs of images\n",
    "def pltPair(img1, img2, title1, title2, cmap1, cmap2, lim):\n",
    "    \"\"\"This function displays a pair of input image with interpolation='none',in the range of lims. \"\"\"\n",
    "\n",
    "    plt.figure(figsize=(16,16))\n",
    "    plt.subplot(1,2,1)\n",
    "    plt.imshow(img1, interpolation='none', cmap=cmap1, vmin=lim[0], vmax=lim[1])\n",
    "    plt.title(title1)\n",
    "    plt.colorbar(fraction=0.046, pad=0.04)\n",
    "    plt.subplot(1,2,2)\n",
    "    plt.imshow(img2, interpolation='none', cmap=cmap2, vmin=lim[2], vmax=lim[3])\n",
    "    plt.title(title2)\n",
    "    plt.colorbar(fraction=0.046, pad=0.04)\n",
    "    plt.show()"
   ]
  },
  {
   "cell_type": "code",
   "execution_count": 5,
   "id": "ce6ebfca",
   "metadata": {},
   "outputs": [
    {
     "data": {
      "application/vnd.jupyter.widget-view+json": {
       "model_id": "3eb61111e08e485d89d08a1109a7b6d8",
       "version_major": 2,
       "version_minor": 0
      },
      "text/plain": [
       "interactive(children=(IntSlider(value=153, description='z', max=306), Output()), _dom_classes=('widget-interac…"
      ]
     },
     "metadata": {},
     "output_type": "display_data"
    },
    {
     "name": "stdout",
     "output_type": "stream",
     "text": [
      "Variable Type:  <class 'numpy.ndarray'>\n",
      "Image data type:  uint16\n",
      "Image dimension:  (307, 786, 712)\n"
     ]
    },
    {
     "data": {
      "text/plain": [
       "<Figure size 1440x1440 with 0 Axes>"
      ]
     },
     "metadata": {},
     "output_type": "display_data"
    }
   ],
   "source": [
    "# Plot image and diplay image features\n",
    "imgDim = img.shape\n",
    "nPlanes = imgDim[0]\n",
    "from ipywidgets import interact\n",
    "@interact (z=(0,nPlanes-1,1))\n",
    "def plot_slides (z):\n",
    "  myplt(img[z,:,:], \"Membranes\")\n",
    "\n",
    "print('Variable Type: ', type(img))\n",
    "print('Image data type: ', img.dtype)\n",
    "print('Image dimension: ', img.shape)\n",
    "plt.figure(figsize=(20,20))\n",
    "plt.show()"
   ]
  },
  {
   "cell_type": "code",
   "execution_count": 6,
   "id": "fd9d20d5",
   "metadata": {},
   "outputs": [
    {
     "name": "stdout",
     "output_type": "stream",
     "text": [
      "249  cells detected after removing the ones at the border\n"
     ]
    }
   ],
   "source": [
    "# Create an image border mask\n",
    "\n",
    "border_mask = np.zeros(img.shape, dtype=bool)\n",
    "border_mask = ndi.binary_dilation(border_mask, border_value=1)\n",
    "\n",
    "# Remove the cells at the border\n",
    "\n",
    "# Create a copy of the initial result\n",
    "clean_img = np.copy(img)\n",
    "\n",
    "for cell_ID in np.unique(img):\n",
    "\n",
    "    # Create a mask that contains only the 'current' cell of the iteration\n",
    "    cell_mask = img ==cell_ID \n",
    "    \n",
    "    # Use the cell mask and the border mask to test if the cell has pixels touching \n",
    "    # the image border or not.\n",
    "    cell_border_overlap = np.logical_and(cell_mask, border_mask)  # Overlap of cell mask and boundary mask\n",
    "    total_overlap_pixels = np.sum(cell_border_overlap)            # Sum overlapping pixels\n",
    "\n",
    "    # If a cell touches the image boundary, delete it by setting its pixels in the segmentation to 0.\n",
    "    if total_overlap_pixels > 0: \n",
    "        clean_img[cell_mask] = 0\n",
    "\n",
    "# Re-label the remaining cells to keep the numbering consistent from 1 to N (with 0 as background).\n",
    "\n",
    "for new_ID, cell_ID in enumerate(np.unique(clean_img)[1:]):  # The [1:] excludes 0 from the list (background)!\n",
    "    clean_img[clean_img==cell_ID] = new_ID+1                  # The same here for the +1\n",
    "        \n",
    "nCells = clean_img.max();\n",
    "print(str(nCells), ' cells detected after removing the ones at the border')"
   ]
  },
  {
   "cell_type": "code",
   "execution_count": 7,
   "id": "59862666",
   "metadata": {},
   "outputs": [
    {
     "data": {
      "application/vnd.jupyter.widget-view+json": {
       "model_id": "17896b9e115549ee942217389d65bff1",
       "version_major": 2,
       "version_minor": 0
      },
      "text/plain": [
       "interactive(children=(IntSlider(value=153, description='z', max=306, min=1), Output()), _dom_classes=('widget-…"
      ]
     },
     "metadata": {},
     "output_type": "display_data"
    }
   ],
   "source": [
    "@interact(z=(1,nPlanes-1,1))\n",
    "def plot_slides(z):\n",
    "  pltPair(img[z,:,:], clean_img[z,:,:], 'Cells initial', 'Cells final', 'jet', 'jet', [0,255,0,nCells])\n",
    "  plt.show()"
   ]
  },
  {
   "cell_type": "code",
   "execution_count": 8,
   "id": "d4823d49",
   "metadata": {},
   "outputs": [],
   "source": [
    "# Create cell edge mask\n",
    "edges = np.zeros_like(clean_img)\n",
    "\n",
    "# Iterate over the cell IDs\n",
    "for cell_ID in np.unique(clean_img)[1:nCells]:#here we can choose how many cells we want to calculate\n",
    "\n",
    "    # Erode the cell's mask by 1 pixel using 'ndi.binary_erode'\n",
    "    cell_mask = clean_img==cell_ID\n",
    "    eroded_cell_mask = ndi.binary_erosion(cell_mask, iterations=1) # \n",
    "    \n",
    "    # Create the cell edge mask using 'np.logical_xor'\n",
    "    edge_mask = np.logical_xor(cell_mask, eroded_cell_mask)\n",
    "    \n",
    "    # Add the cell edge mask to the empty array generated above, labeling it with the cell's ID\n",
    "    edges[edge_mask] = cell_ID"
   ]
  },
  {
   "cell_type": "code",
   "execution_count": 9,
   "id": "6acceff3",
   "metadata": {},
   "outputs": [
    {
     "data": {
      "application/vnd.jupyter.widget-view+json": {
       "model_id": "a483847f413c41c99bd285a984f7a98c",
       "version_major": 2,
       "version_minor": 0
      },
      "text/plain": [
       "interactive(children=(IntSlider(value=153, description='z', max=306, min=1), Output()), _dom_classes=('widget-…"
      ]
     },
     "metadata": {},
     "output_type": "display_data"
    }
   ],
   "source": [
    "# Vizualize   \n",
    "maskEdges = np.ma.array(edges, mask=edges==0)\n",
    "@interact(z=(1,nPlanes-1,1))\n",
    "def plot_slides(z):\n",
    "  pltPair(img[z,:,:], maskEdges[z,:,:], 'Smooth image', 'Cell edges', 'gray', 'prism', [0,255,0,nCells])\n",
    "  plt.show()"
   ]
  },
  {
   "cell_type": "code",
   "execution_count": 10,
   "id": "28b25015",
   "metadata": {},
   "outputs": [],
   "source": [
    "# Create a dictionary that contains a key-value pairing for each measurement\n",
    "\n",
    "results = {\"cell_id\"      : [],\n",
    "           \"cell_area\"    : [],\n",
    "           \"cell_edge\"    : []}\n",
    "\n",
    "\n",
    "# Run calculations for each cell\n",
    "\n",
    "for cell_id in np.unique(clean_img)[1:nCells]:\n",
    "\n",
    "    # Mask the current cell and cell edge\n",
    "    cell_mask = clean_img==cell_id\n",
    "    edge_mask = edges==cell_id\n",
    "    \n",
    "    # Get the measurements\n",
    "    results[\"cell_id\"].append(cell_id)\n",
    "    results[\"cell_area\"].append(np.sum(cell_mask))\n",
    "    results[\"cell_edge\"].append(np.sum(edge_mask))\n"
   ]
  },
  {
   "cell_type": "code",
   "execution_count": 15,
   "id": "fc715a7d",
   "metadata": {
    "scrolled": false
   },
   "outputs": [
    {
     "name": "stdout",
     "output_type": "stream",
     "text": [
      "cell_id: [1, 2, 3, 4, 5, 6, 7, 8, 9, 10, 11, 12, 13, 14, 15, 16, 17, 18, 19, 20, 21, 22, 23, 24, 25, 26, 27, 28, 29, 30, 31, 32, 33, 34, 35, 36, 37, 38, 39, 40, 41, 42, 43, 44, 45, 46, 47, 48, 49, 50, 51, 52, 53, 54, 55, 56, 57, 58, 59, 60, 61, 62, 63, 64, 65, 66, 67, 68, 69, 70, 71, 72, 73, 74, 75, 76, 77, 78, 79, 80, 81, 82, 83, 84, 85, 86, 87, 88, 89, 90, 91, 92, 93, 94, 95, 96, 97, 98, 99, 100, 101, 102, 103, 104, 105, 106, 107, 108, 109, 110, 111, 112, 113, 114, 115, 116, 117, 118, 119, 120, 121, 122, 123, 124, 125, 126, 127, 128, 129, 130, 131, 132, 133, 134, 135, 136, 137, 138, 139, 140, 141, 142, 143, 144, 145, 146, 147, 148, 149, 150, 151, 152, 153, 154, 155, 156, 157, 158, 159, 160, 161, 162, 163, 164, 165, 166, 167, 168, 169, 170, 171, 172, 173, 174, 175, 176, 177, 178, 179, 180, 181, 182, 183, 184, 185, 186, 187, 188, 189, 190, 191, 192, 193, 194, 195, 196, 197, 198, 199, 200, 201, 202, 203, 204, 205, 206, 207, 208, 209, 210, 211, 212, 213, 214, 215, 216, 217, 218, 219, 220, 221, 222, 223, 224, 225, 226, 227, 228, 229, 230, 231, 232, 233, 234, 235, 236, 237, 238, 239, 240, 241, 242, 243, 244, 245, 246, 247, 248] \n",
      "\n",
      "cell_area: [200801, 342301, 214657, 314480, 277219, 388874, 169108, 220331, 196869, 389742, 333146, 200237, 223903, 411705, 203050, 187975, 243741, 223478, 191950, 201827, 217658, 408542, 436515, 366571, 220496, 202716, 344988, 329014, 409656, 335509, 424157, 337081, 215903, 430852, 442312, 206324, 410326, 344792, 366556, 190874, 204549, 207959, 354828, 424044, 213454, 200484, 321542, 202364, 354321, 174648, 355405, 437807, 199675, 380789, 202492, 177607, 393647, 240363, 388730, 294940, 422081, 392492, 211421, 340048, 436787, 209416, 212898, 367332, 401525, 343792, 168033, 176860, 226880, 404468, 204135, 172104, 366773, 170334, 331806, 315765, 208830, 352034, 373086, 345735, 341343, 313931, 220582, 398685, 326954, 319567, 283736, 223955, 363816, 190561, 312521, 233841, 269832, 226046, 209870, 267839, 358401, 314789, 334593, 415176, 209526, 188322, 178109, 352978, 399989, 186489, 393365, 186738, 209073, 292913, 214853, 360448, 307976, 192995, 286812, 380895, 387166, 331751, 183167, 190140, 219715, 231042, 278348, 300035, 357277, 209920, 174811, 200289, 265130, 345233, 181533, 218103, 158030, 194629, 339447, 388607, 406455, 418727, 161789, 214129, 225996, 181747, 305351, 183152, 331069, 397823, 377168, 347130, 195499, 343528, 223503, 142507, 419135, 182372, 347362, 210249, 200057, 386861, 383091, 411337, 487350, 348819, 163527, 188797, 349217, 168330, 352431, 211615, 200096, 203286, 373772, 372145, 414130, 442626, 340265, 384043, 211246, 226676, 362893, 142342, 434935, 298475, 348837, 191098, 227095, 228274, 321881, 209612, 436602, 215994, 161810, 194802, 384241, 167367, 206055, 306606, 363534, 194259, 395558, 222806, 399009, 314500, 199397, 347715, 144577, 200773, 396324, 222108, 306422, 175722, 202315, 197567, 174057, 233096, 192660, 185323, 196031, 153024, 337007, 159591, 216487, 197752, 343057, 171246, 169138, 199028, 392608, 331073, 201492, 341115, 365353, 182527, 162756, 156939, 112194, 167365, 161862, 399577, 73623, 226042, 109577, 174919, 167970, 164241] \n",
      "\n",
      "cell_edge: [16549, 23280, 16814, 22587, 20563, 26108, 16292, 16796, 16610, 25455, 25062, 17465, 17191, 27078, 16630, 14679, 20149, 16910, 15480, 15874, 16496, 25410, 26421, 23592, 16360, 15436, 22650, 22967, 24574, 22208, 26266, 22931, 16607, 26255, 28432, 17128, 24875, 22523, 25361, 15043, 15309, 17193, 23725, 27314, 16755, 15684, 22720, 15925, 22838, 15113, 23964, 27714, 15788, 25223, 15228, 15025, 24707, 17754, 24895, 20758, 26134, 25336, 16505, 23757, 28345, 16338, 16344, 23311, 25610, 24481, 14058, 15378, 17808, 27515, 16766, 14152, 24647, 14374, 22784, 22171, 16210, 26007, 24064, 23505, 24109, 21652, 17296, 26156, 23833, 21138, 20488, 16849, 24162, 16453, 21663, 17629, 19606, 18065, 15932, 19499, 23843, 21416, 23715, 26846, 16507, 15483, 15359, 23836, 27564, 14865, 26632, 14765, 16255, 20784, 17081, 24058, 22256, 15511, 21120, 25100, 25162, 23096, 15274, 15327, 17063, 17441, 19581, 21246, 25036, 16916, 15123, 16247, 19370, 23285, 15031, 16364, 13743, 15534, 23709, 25920, 26287, 26666, 14145, 17580, 17388, 14763, 21325, 15004, 23301, 25080, 24379, 23978, 15831, 22327, 16617, 13342, 26308, 15312, 23320, 16591, 15989, 25953, 27313, 26690, 35986, 23743, 14541, 15391, 24253, 14458, 25147, 16715, 15418, 16048, 24448, 24216, 26968, 27377, 23507, 25493, 16833, 17986, 24274, 13028, 28154, 20913, 23696, 15637, 17379, 17266, 23750, 16844, 27253, 16225, 13790, 15634, 25782, 14223, 16597, 21812, 23959, 15560, 26835, 16400, 25530, 22780, 16751, 23145, 13896, 16624, 24621, 17316, 21673, 14544, 16351, 16956, 16665, 18664, 15947, 16449, 15340, 14297, 21804, 14467, 18710, 17531, 26615, 14875, 14495, 15607, 25841, 23690, 16264, 25354, 28319, 15830, 13685, 13352, 11574, 14267, 14962, 25997, 8159, 18379, 12200, 15249, 14354, 14483] \n",
      "\n"
     ]
    }
   ],
   "source": [
    "# Print the results \n",
    "for key in results.keys(): \n",
    "    print(key + \":\", results[key][:nCells], '\\n')"
   ]
  },
  {
   "cell_type": "code",
   "execution_count": 58,
   "id": "a8ed3586",
   "metadata": {},
   "outputs": [],
   "source": [
    "verts, faces, normals, values = measure.marching_cubes(maskEdges, 0.0) "
   ]
  },
  {
   "cell_type": "code",
   "execution_count": 60,
   "id": "40ecbed1",
   "metadata": {},
   "outputs": [],
   "source": [
    "x= [vert[0] for vert in verts]\n",
    "y= [vert[1] for vert in verts]\n",
    "z= [vert[2] for vert in verts]"
   ]
  },
  {
   "cell_type": "code",
   "execution_count": 62,
   "id": "2bd4c3d2",
   "metadata": {},
   "outputs": [],
   "source": [
    "mlab.triangular_mesh(x,y,z, faces, representation = 'wireframe')\n",
    "mlab.show() "
   ]
  },
  {
   "cell_type": "code",
   "execution_count": null,
   "id": "ee5e9551",
   "metadata": {},
   "outputs": [],
   "source": []
  }
 ],
 "metadata": {
  "kernelspec": {
   "display_name": "Python 3 (ipykernel)",
   "language": "python",
   "name": "python3"
  },
  "language_info": {
   "codemirror_mode": {
    "name": "ipython",
    "version": 3
   },
   "file_extension": ".py",
   "mimetype": "text/x-python",
   "name": "python",
   "nbconvert_exporter": "python",
   "pygments_lexer": "ipython3",
   "version": "3.9.12"
  }
 },
 "nbformat": 4,
 "nbformat_minor": 5
}
